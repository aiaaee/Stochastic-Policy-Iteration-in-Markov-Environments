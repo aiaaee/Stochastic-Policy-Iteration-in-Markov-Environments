{
  "nbformat": 4,
  "nbformat_minor": 0,
  "metadata": {
    "colab": {
      "provenance": [],
      "authorship_tag": "ABX9TyPR8JTz1oHQo/e4rItyheDI",
      "include_colab_link": true
    },
    "kernelspec": {
      "name": "python3",
      "display_name": "Python 3"
    },
    "language_info": {
      "name": "python"
    }
  },
  "cells": [
    {
      "cell_type": "markdown",
      "metadata": {
        "id": "view-in-github",
        "colab_type": "text"
      },
      "source": [
        "<a href=\"https://colab.research.google.com/github/aiaaee/Stochastic-Policy-Iteration-in-Markov-Environments/blob/main/stochastic_policy_iteration.ipynb\" target=\"_parent\"><img src=\"https://colab.research.google.com/assets/colab-badge.svg\" alt=\"Open In Colab\"/></a>"
      ]
    },
    {
      "cell_type": "code",
      "source": [
        "pip install git+https://github.com/mimoralea/gym-walk#egg=gym-walk"
      ],
      "metadata": {
        "colab": {
          "base_uri": "https://localhost:8080/"
        },
        "id": "NNHDm7mSxSAx",
        "outputId": "49751a7b-c41e-4cf0-f80d-0f54c62928b4"
      },
      "execution_count": 1,
      "outputs": [
        {
          "output_type": "stream",
          "name": "stdout",
          "text": [
            "Collecting gym-walk\n",
            "  Cloning https://github.com/mimoralea/gym-walk to /tmp/pip-install-3_ljk8rb/gym-walk_cf79795fc0f343ed8ad92be6dd5f70e5\n",
            "  Running command git clone --filter=blob:none --quiet https://github.com/mimoralea/gym-walk /tmp/pip-install-3_ljk8rb/gym-walk_cf79795fc0f343ed8ad92be6dd5f70e5\n",
            "  Resolved https://github.com/mimoralea/gym-walk to commit b915b94cf2ad16f8833a1ad92ea94e88159279f5\n",
            "  Preparing metadata (setup.py) ... \u001b[?25l\u001b[?25hdone\n",
            "Requirement already satisfied: gym in /usr/local/lib/python3.12/dist-packages (from gym-walk) (0.25.2)\n",
            "Requirement already satisfied: numpy>=1.18.0 in /usr/local/lib/python3.12/dist-packages (from gym->gym-walk) (2.0.2)\n",
            "Requirement already satisfied: cloudpickle>=1.2.0 in /usr/local/lib/python3.12/dist-packages (from gym->gym-walk) (3.1.1)\n",
            "Requirement already satisfied: gym-notices>=0.0.4 in /usr/local/lib/python3.12/dist-packages (from gym->gym-walk) (0.1.0)\n",
            "Building wheels for collected packages: gym-walk\n",
            "  Building wheel for gym-walk (setup.py) ... \u001b[?25l\u001b[?25hdone\n",
            "  Created wheel for gym-walk: filename=gym_walk-0.0.2-py3-none-any.whl size=5377 sha256=e3ce8a6e2088cbdfd6e5eeb29e8aae2b3b2e15d65fa2e936265b45ee677b3fa7\n",
            "  Stored in directory: /tmp/pip-ephem-wheel-cache-srk62ita/wheels/bf/23/e5/a94be4a90dd18f7ce958c21f192276cb01ef0daaf2bc66583b\n",
            "Successfully built gym-walk\n",
            "Installing collected packages: gym-walk\n",
            "Successfully installed gym-walk-0.0.2\n"
          ]
        }
      ]
    },
    {
      "cell_type": "code",
      "source": [
        "import numpy as np\n",
        "import warnings\n",
        "import  gym_walk\n",
        "import seaborn as sns\n",
        "import gymnasium as gym\n",
        "import matplotlib.pyplot as plt"
      ],
      "metadata": {
        "id": "I75F9Up6xWse"
      },
      "execution_count": 29,
      "outputs": []
    },
    {
      "cell_type": "code",
      "source": [
        "LEFT, DOWN, RIGHT, UP = range(4)"
      ],
      "metadata": {
        "id": "h3vrKID1wkLZ"
      },
      "execution_count": 15,
      "outputs": []
    },
    {
      "cell_type": "code",
      "source": [
        "env = gym.make('FrozenLake-v1')\n",
        "P = env.env.env.env.P"
      ],
      "metadata": {
        "id": "92rBSYDVxhWi"
      },
      "execution_count": 16,
      "outputs": []
    },
    {
      "cell_type": "code",
      "source": [
        "P"
      ],
      "metadata": {
        "colab": {
          "base_uri": "https://localhost:8080/"
        },
        "id": "zuy7Frnj_grL",
        "outputId": "27abc905-dc53-4a5b-edc8-4a5016b86dbf"
      },
      "execution_count": 17,
      "outputs": [
        {
          "output_type": "execute_result",
          "data": {
            "text/plain": [
              "{0: {0: [(0.3333333333333333, 0, 0.0, False),\n",
              "   (0.3333333333333333, 0, 0.0, False),\n",
              "   (0.3333333333333333, 4, 0.0, False)],\n",
              "  1: [(0.3333333333333333, 0, 0.0, False),\n",
              "   (0.3333333333333333, 4, 0.0, False),\n",
              "   (0.3333333333333333, 1, 0.0, False)],\n",
              "  2: [(0.3333333333333333, 4, 0.0, False),\n",
              "   (0.3333333333333333, 1, 0.0, False),\n",
              "   (0.3333333333333333, 0, 0.0, False)],\n",
              "  3: [(0.3333333333333333, 1, 0.0, False),\n",
              "   (0.3333333333333333, 0, 0.0, False),\n",
              "   (0.3333333333333333, 0, 0.0, False)]},\n",
              " 1: {0: [(0.3333333333333333, 1, 0.0, False),\n",
              "   (0.3333333333333333, 0, 0.0, False),\n",
              "   (0.3333333333333333, 5, 0.0, True)],\n",
              "  1: [(0.3333333333333333, 0, 0.0, False),\n",
              "   (0.3333333333333333, 5, 0.0, True),\n",
              "   (0.3333333333333333, 2, 0.0, False)],\n",
              "  2: [(0.3333333333333333, 5, 0.0, True),\n",
              "   (0.3333333333333333, 2, 0.0, False),\n",
              "   (0.3333333333333333, 1, 0.0, False)],\n",
              "  3: [(0.3333333333333333, 2, 0.0, False),\n",
              "   (0.3333333333333333, 1, 0.0, False),\n",
              "   (0.3333333333333333, 0, 0.0, False)]},\n",
              " 2: {0: [(0.3333333333333333, 2, 0.0, False),\n",
              "   (0.3333333333333333, 1, 0.0, False),\n",
              "   (0.3333333333333333, 6, 0.0, False)],\n",
              "  1: [(0.3333333333333333, 1, 0.0, False),\n",
              "   (0.3333333333333333, 6, 0.0, False),\n",
              "   (0.3333333333333333, 3, 0.0, False)],\n",
              "  2: [(0.3333333333333333, 6, 0.0, False),\n",
              "   (0.3333333333333333, 3, 0.0, False),\n",
              "   (0.3333333333333333, 2, 0.0, False)],\n",
              "  3: [(0.3333333333333333, 3, 0.0, False),\n",
              "   (0.3333333333333333, 2, 0.0, False),\n",
              "   (0.3333333333333333, 1, 0.0, False)]},\n",
              " 3: {0: [(0.3333333333333333, 3, 0.0, False),\n",
              "   (0.3333333333333333, 2, 0.0, False),\n",
              "   (0.3333333333333333, 7, 0.0, True)],\n",
              "  1: [(0.3333333333333333, 2, 0.0, False),\n",
              "   (0.3333333333333333, 7, 0.0, True),\n",
              "   (0.3333333333333333, 3, 0.0, False)],\n",
              "  2: [(0.3333333333333333, 7, 0.0, True),\n",
              "   (0.3333333333333333, 3, 0.0, False),\n",
              "   (0.3333333333333333, 3, 0.0, False)],\n",
              "  3: [(0.3333333333333333, 3, 0.0, False),\n",
              "   (0.3333333333333333, 3, 0.0, False),\n",
              "   (0.3333333333333333, 2, 0.0, False)]},\n",
              " 4: {0: [(0.3333333333333333, 0, 0.0, False),\n",
              "   (0.3333333333333333, 4, 0.0, False),\n",
              "   (0.3333333333333333, 8, 0.0, False)],\n",
              "  1: [(0.3333333333333333, 4, 0.0, False),\n",
              "   (0.3333333333333333, 8, 0.0, False),\n",
              "   (0.3333333333333333, 5, 0.0, True)],\n",
              "  2: [(0.3333333333333333, 8, 0.0, False),\n",
              "   (0.3333333333333333, 5, 0.0, True),\n",
              "   (0.3333333333333333, 0, 0.0, False)],\n",
              "  3: [(0.3333333333333333, 5, 0.0, True),\n",
              "   (0.3333333333333333, 0, 0.0, False),\n",
              "   (0.3333333333333333, 4, 0.0, False)]},\n",
              " 5: {0: [(1.0, 5, 0, True)],\n",
              "  1: [(1.0, 5, 0, True)],\n",
              "  2: [(1.0, 5, 0, True)],\n",
              "  3: [(1.0, 5, 0, True)]},\n",
              " 6: {0: [(0.3333333333333333, 2, 0.0, False),\n",
              "   (0.3333333333333333, 5, 0.0, True),\n",
              "   (0.3333333333333333, 10, 0.0, False)],\n",
              "  1: [(0.3333333333333333, 5, 0.0, True),\n",
              "   (0.3333333333333333, 10, 0.0, False),\n",
              "   (0.3333333333333333, 7, 0.0, True)],\n",
              "  2: [(0.3333333333333333, 10, 0.0, False),\n",
              "   (0.3333333333333333, 7, 0.0, True),\n",
              "   (0.3333333333333333, 2, 0.0, False)],\n",
              "  3: [(0.3333333333333333, 7, 0.0, True),\n",
              "   (0.3333333333333333, 2, 0.0, False),\n",
              "   (0.3333333333333333, 5, 0.0, True)]},\n",
              " 7: {0: [(1.0, 7, 0, True)],\n",
              "  1: [(1.0, 7, 0, True)],\n",
              "  2: [(1.0, 7, 0, True)],\n",
              "  3: [(1.0, 7, 0, True)]},\n",
              " 8: {0: [(0.3333333333333333, 4, 0.0, False),\n",
              "   (0.3333333333333333, 8, 0.0, False),\n",
              "   (0.3333333333333333, 12, 0.0, True)],\n",
              "  1: [(0.3333333333333333, 8, 0.0, False),\n",
              "   (0.3333333333333333, 12, 0.0, True),\n",
              "   (0.3333333333333333, 9, 0.0, False)],\n",
              "  2: [(0.3333333333333333, 12, 0.0, True),\n",
              "   (0.3333333333333333, 9, 0.0, False),\n",
              "   (0.3333333333333333, 4, 0.0, False)],\n",
              "  3: [(0.3333333333333333, 9, 0.0, False),\n",
              "   (0.3333333333333333, 4, 0.0, False),\n",
              "   (0.3333333333333333, 8, 0.0, False)]},\n",
              " 9: {0: [(0.3333333333333333, 5, 0.0, True),\n",
              "   (0.3333333333333333, 8, 0.0, False),\n",
              "   (0.3333333333333333, 13, 0.0, False)],\n",
              "  1: [(0.3333333333333333, 8, 0.0, False),\n",
              "   (0.3333333333333333, 13, 0.0, False),\n",
              "   (0.3333333333333333, 10, 0.0, False)],\n",
              "  2: [(0.3333333333333333, 13, 0.0, False),\n",
              "   (0.3333333333333333, 10, 0.0, False),\n",
              "   (0.3333333333333333, 5, 0.0, True)],\n",
              "  3: [(0.3333333333333333, 10, 0.0, False),\n",
              "   (0.3333333333333333, 5, 0.0, True),\n",
              "   (0.3333333333333333, 8, 0.0, False)]},\n",
              " 10: {0: [(0.3333333333333333, 6, 0.0, False),\n",
              "   (0.3333333333333333, 9, 0.0, False),\n",
              "   (0.3333333333333333, 14, 0.0, False)],\n",
              "  1: [(0.3333333333333333, 9, 0.0, False),\n",
              "   (0.3333333333333333, 14, 0.0, False),\n",
              "   (0.3333333333333333, 11, 0.0, True)],\n",
              "  2: [(0.3333333333333333, 14, 0.0, False),\n",
              "   (0.3333333333333333, 11, 0.0, True),\n",
              "   (0.3333333333333333, 6, 0.0, False)],\n",
              "  3: [(0.3333333333333333, 11, 0.0, True),\n",
              "   (0.3333333333333333, 6, 0.0, False),\n",
              "   (0.3333333333333333, 9, 0.0, False)]},\n",
              " 11: {0: [(1.0, 11, 0, True)],\n",
              "  1: [(1.0, 11, 0, True)],\n",
              "  2: [(1.0, 11, 0, True)],\n",
              "  3: [(1.0, 11, 0, True)]},\n",
              " 12: {0: [(1.0, 12, 0, True)],\n",
              "  1: [(1.0, 12, 0, True)],\n",
              "  2: [(1.0, 12, 0, True)],\n",
              "  3: [(1.0, 12, 0, True)]},\n",
              " 13: {0: [(0.3333333333333333, 9, 0.0, False),\n",
              "   (0.3333333333333333, 12, 0.0, True),\n",
              "   (0.3333333333333333, 13, 0.0, False)],\n",
              "  1: [(0.3333333333333333, 12, 0.0, True),\n",
              "   (0.3333333333333333, 13, 0.0, False),\n",
              "   (0.3333333333333333, 14, 0.0, False)],\n",
              "  2: [(0.3333333333333333, 13, 0.0, False),\n",
              "   (0.3333333333333333, 14, 0.0, False),\n",
              "   (0.3333333333333333, 9, 0.0, False)],\n",
              "  3: [(0.3333333333333333, 14, 0.0, False),\n",
              "   (0.3333333333333333, 9, 0.0, False),\n",
              "   (0.3333333333333333, 12, 0.0, True)]},\n",
              " 14: {0: [(0.3333333333333333, 10, 0.0, False),\n",
              "   (0.3333333333333333, 13, 0.0, False),\n",
              "   (0.3333333333333333, 14, 0.0, False)],\n",
              "  1: [(0.3333333333333333, 13, 0.0, False),\n",
              "   (0.3333333333333333, 14, 0.0, False),\n",
              "   (0.3333333333333333, 15, 1.0, True)],\n",
              "  2: [(0.3333333333333333, 14, 0.0, False),\n",
              "   (0.3333333333333333, 15, 1.0, True),\n",
              "   (0.3333333333333333, 10, 0.0, False)],\n",
              "  3: [(0.3333333333333333, 15, 1.0, True),\n",
              "   (0.3333333333333333, 10, 0.0, False),\n",
              "   (0.3333333333333333, 13, 0.0, False)]},\n",
              " 15: {0: [(1.0, 15, 0, True)],\n",
              "  1: [(1.0, 15, 0, True)],\n",
              "  2: [(1.0, 15, 0, True)],\n",
              "  3: [(1.0, 15, 0, True)]}}"
            ]
          },
          "metadata": {},
          "execution_count": 17
        }
      ]
    },
    {
      "cell_type": "code",
      "source": [
        "fig, ax = plt.subplots(figsize=(5,5))\n",
        "color = 'lightgray'\n",
        "state_num = 0\n",
        "for i in range(4):\n",
        "    for j in range(4):\n",
        "      if i == 0 and j == 0 :\n",
        "        color = 'lightblue'\n",
        "        text_color='black'\n",
        "\n",
        "      elif i == 3 and j == 3 :\n",
        "        color = 'green'\n",
        "        text_color='black'\n",
        "\n",
        "      elif (i == 1 and j == 1) or (i == 1 and j == 3) or (i == 2 and j == 3 ) or (i == 3 and j == 0 ):\n",
        "        text_color = 'white'\n",
        "        color='black'\n",
        "      else :\n",
        "        color = 'lightgray'\n",
        "        text_color='black'\n",
        "      ax.add_patch(plt.Rectangle((j,i), 1 , 1 , edgecolor='black' , facecolor=color))\n",
        "      ax.text(j+0.5, i+0.5 , str(state_num) , ha='center', va='center', fontsize=12 , color=text_color)\n",
        "      state_num += 1\n",
        "\n",
        "ax.set_xlim(0,4)\n",
        "ax.set_ylim(0,4)\n",
        "ax.set_xticks([])\n",
        "ax.set_yticks([])\n",
        "ax.set_title(\"FrozenLake 16 States (P visualization)\")\n",
        "plt.gca().invert_yaxis()\n",
        "plt.show()\n"
      ],
      "metadata": {
        "colab": {
          "base_uri": "https://localhost:8080/",
          "height": 444
        },
        "id": "0nskKZtYz_dJ",
        "outputId": "8b13a77c-3691-41d7-bff6-6ab8ba7cabcf"
      },
      "execution_count": 18,
      "outputs": [
        {
          "output_type": "display_data",
          "data": {
            "text/plain": [
              "<Figure size 500x500 with 1 Axes>"
            ],
            "image/png": "[encoded data removed]"
          },
          "metadata": {}
        }
      ]
    },
    {
      "cell_type": "code",
      "source": [
        "def Policy_evaluation(pi , P , theta=1e-10 , gamma=1.0):\n",
        "  prev_V = np.zeros(len(P) , dtype=np.float64)\n",
        "  while True :\n",
        "    V = np.zeros(len(P) , dtype=np.float64)\n",
        "    for s in range(len(P)):\n",
        "      for prob , next_state , reward , done in P[s][pi(s)] :\n",
        "        V[s] += prob * (reward + gamma * prev_V[next_state] * (not done))\n",
        "    if np.max(np.abs(prev_V - V )) < theta :\n",
        "      break\n",
        "    prev_V = V.copy()\n",
        "  return V\n",
        "\n",
        "\n",
        "def Policy_improvement(V , P , theta=1e-10 , gamma=1.0):\n",
        "  Q = np.zeros((len(P) , len(P[0])) , dtype=np.float64)\n",
        "  for s in range(len(P)):\n",
        "    for a in range(len(P[s])):\n",
        "      for prob , next_state , reward , done in P[s][a]:\n",
        "        Q[s][a] += prob * (reward + gamma * V[next_state] * (not done))\n",
        "    best_action = np.argmax(Q , axis=1)\n",
        "    x = lambda s : best_action[s]\n",
        "  return x"
      ],
      "metadata": {
        "id": "Osd8ywJWBSRt"
      },
      "execution_count": 30,
      "outputs": []
    },
    {
      "cell_type": "code",
      "source": [
        "random_pi = lambda s: {\n",
        "    0:RIGHT, 1:LEFT, 2:DOWN, 3:UP,\n",
        "    4:LEFT, 5:LEFT, 6:RIGHT, 7:LEFT,\n",
        "    8:UP, 9:DOWN, 10:UP, 11:LEFT,\n",
        "    12:LEFT, 13:RIGHT, 14:DOWN, 15:LEFT\n",
        "}[s]"
      ],
      "metadata": {
        "id": "FY0A__ccwINx"
      },
      "execution_count": 20,
      "outputs": []
    },
    {
      "cell_type": "code",
      "source": [
        "V = Policy_evaluation(random_pi , P)\n",
        "for i , v in enumerate(V):\n",
        "  print(f'State : {i} --> {v}')"
      ],
      "metadata": {
        "colab": {
          "base_uri": "https://localhost:8080/"
        },
        "id": "wk6PN9nSvxXP",
        "outputId": "67a267a1-af33-45e7-b9ce-28aa0bffd7e4"
      },
      "execution_count": 26,
      "outputs": [
        {
          "output_type": "stream",
          "name": "stdout",
          "text": [
            "State : 0 --> 0.11764705786064777\n",
            "State : 1 --> 0.05882352886815158\n",
            "State : 2 --> 0.05882352878895475\n",
            "State : 3 --> 0.05882352860424482\n",
            "State : 4 --> 0.1764705870733909\n",
            "State : 5 --> 0.0\n",
            "State : 6 --> 0.058823529036927696\n",
            "State : 7 --> 0.0\n",
            "State : 8 --> 0.23529411655190463\n",
            "State : 9 --> 0.29411764628092096\n",
            "State : 10 --> 0.11764705840756756\n",
            "State : 11 --> 0.0\n",
            "State : 12 --> 0.0\n",
            "State : 13 --> 0.5294117640612261\n",
            "State : 14 --> 0.7647058819889883\n",
            "State : 15 --> 0.0\n"
          ]
        }
      ]
    },
    {
      "cell_type": "code",
      "source": [
        "V_grid = V.reshape(4, 4)\n",
        "sns.heatmap(V_grid, annot=True, cmap='YlGnBu', fmt=\".2f\")\n",
        "plt.title(\"Policy Evaluation Heatmap\")\n",
        "plt.show()"
      ],
      "metadata": {
        "colab": {
          "base_uri": "https://localhost:8080/",
          "height": 507
        },
        "id": "_OYkV7C8xTY5",
        "outputId": "bd80a22a-543a-4226-c3dd-d4d4bd183427"
      },
      "execution_count": 28,
      "outputs": [
        {
          "output_type": "display_data",
          "data": {
            "text/plain": [
              "<Figure size 640x480 with 2 Axes>"
            ],
            "image/png": "[encoded data removed]"
          },
          "metadata": {}
        },
        {
          "output_type": "stream",
          "name": "stderr",
          "text": [
            "/usr/local/lib/python3.12/dist-packages/jupyter_client/session.py:203: DeprecationWarning: datetime.datetime.utcnow() is deprecated and scheduled for removal in a future version. Use timezone-aware objects to represent datetimes in UTC: datetime.datetime.now(datetime.UTC).\n",
            "  return datetime.utcnow().replace(tzinfo=utc)\n"
          ]
        }
      ]
    },
    {
      "cell_type": "code",
      "source": [
        "best_action = Policy_improvement(V , P )\n",
        "policy_arr = []\n",
        "for s in range(len(P)):\n",
        "  policy_arr.append(best_action(s))\n",
        "  print(f'in state : {s} --> Action : {best_action(s)}')"
      ],
      "metadata": {
        "colab": {
          "base_uri": "https://localhost:8080/"
        },
        "id": "GQ-lffhl0n7C",
        "outputId": "2d21093d-cb4b-4900-9c88-3dfd248fa4c5"
      },
      "execution_count": 44,
      "outputs": [
        {
          "output_type": "stream",
          "name": "stdout",
          "text": [
            "in state : 0 --> Action : 0\n",
            "in state : 1 --> Action : 3\n",
            "in state : 2 --> Action : 0\n",
            "in state : 3 --> Action : 3\n",
            "in state : 4 --> Action : 0\n",
            "in state : 5 --> Action : 0\n",
            "in state : 6 --> Action : 0\n",
            "in state : 7 --> Action : 0\n",
            "in state : 8 --> Action : 3\n",
            "in state : 9 --> Action : 1\n",
            "in state : 10 --> Action : 0\n",
            "in state : 11 --> Action : 0\n",
            "in state : 12 --> Action : 0\n",
            "in state : 13 --> Action : 2\n",
            "in state : 14 --> Action : 1\n",
            "in state : 15 --> Action : 0\n"
          ]
        }
      ]
    },
    {
      "cell_type": "code",
      "source": [
        "actions = ['←', '↓', '→', '↑']\n",
        "grid_policy = np.array([actions[a] for a in policy_arr]).reshape(4,4)\n",
        "print(grid_policy)"
      ],
      "metadata": {
        "colab": {
          "base_uri": "https://localhost:8080/"
        },
        "id": "Dm2rwWBQ0wu4",
        "outputId": "7dd6d869-bafc-48c8-ce24-6c7160ef0ce7"
      },
      "execution_count": 46,
      "outputs": [
        {
          "output_type": "stream",
          "name": "stdout",
          "text": [
            "[['←' '↑' '←' '↑']\n",
            " ['←' '←' '←' '←']\n",
            " ['↑' '↓' '←' '←']\n",
            " ['←' '→' '↓' '←']]\n"
          ]
        }
      ]
    }
  ]
}